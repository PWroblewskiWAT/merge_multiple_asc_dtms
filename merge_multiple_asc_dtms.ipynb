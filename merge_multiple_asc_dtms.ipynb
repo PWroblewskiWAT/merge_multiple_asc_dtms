{
 "cells": [
  {
   "cell_type": "code",
   "execution_count": 1,
   "id": "0561a4d1",
   "metadata": {},
   "outputs": [],
   "source": [
    "import matplotlib.pyplot as plt\n",
    "from operator import itemgetter\n",
    "import numpy as np\n",
    "from math import *\n",
    "import time\n",
    "import os"
   ]
  },
  {
   "cell_type": "code",
   "execution_count": 2,
   "id": "61528e82",
   "metadata": {},
   "outputs": [],
   "source": [
    "def loadSingleAscDtm(path, sep):\n",
    "    \"\"\"\n",
    "    \"\"\"\n",
    "    headerComponents = ['ncols', 'nrows', 'xllcenter', 'yllcenter', 'cellsize', 'nodata_value']\n",
    "    \n",
    "    with open(path, 'r') as f:\n",
    "    \n",
    "        counter = 0\n",
    "        header = {}\n",
    "        dtm = []\n",
    "\n",
    "        for l in f:\n",
    "            \n",
    "            if l.endswith('\\n'):\n",
    "                l = l[:l.index('\\n')]\n",
    "\n",
    "            l = l.split(f'{sep}')\n",
    "\n",
    "            if counter < 6:\n",
    "                \n",
    "                if any(map(lambda x: x in headerComponents, l)):\n",
    "                    counter += 1\n",
    "                    \n",
    "                    try:\n",
    "                        header[l[0]] = int(l[1])\n",
    "                    \n",
    "                    except:\n",
    "                        header[l[0]] = float(l[1])\n",
    "\n",
    "            else:\n",
    "                heights = []\n",
    "                \n",
    "                for el in l:\n",
    "                    \n",
    "                    try:\n",
    "                        heights.append(int(el))\n",
    "                    \n",
    "                    except:\n",
    "                        heights.append(float(el))\n",
    "\n",
    "                dtm.append(heights)\n",
    "    \n",
    "    return header, np.array(dtm)"
   ]
  },
  {
   "cell_type": "code",
   "execution_count": 3,
   "id": "e29fac3f",
   "metadata": {},
   "outputs": [],
   "source": [
    "def loadMultipleAscDtms(catalog, sep):\n",
    "    \"\"\"\n",
    "    \"\"\"\n",
    "    headers = {}\n",
    "    dtms = {}\n",
    "    \n",
    "    for file in os.listdir(catalog):\n",
    "        \n",
    "        if file.endswith('.asc'):\n",
    "            header, dtm = loadSingleAscDtm(os.path.join(catalog, file), ' ')\n",
    "            \n",
    "            headers[file[:file.index('.')]] = header\n",
    "            dtms[file[:file.index('.')]] = dtm\n",
    "    \n",
    "    return headers, dtms"
   ]
  },
  {
   "cell_type": "code",
   "execution_count": 4,
   "id": "12a65426",
   "metadata": {},
   "outputs": [],
   "source": [
    "def findStatisticsForDatasets(headers):\n",
    "    \"\"\"\n",
    "    \"\"\"  \n",
    "    return {\n",
    "        'mean cols num'  : int(np.mean([v['ncols'] for v in headers.values()])),\n",
    "        'mean rows num'  : int(np.mean([v['nrows'] for v in headers.values()])),\n",
    "        'mean cell size' : int(np.mean([v['cellsize'] for v in headers.values()])),\n",
    "        'min X' : min([v['xllcenter'] for v in headers.values()]),\n",
    "        'max X' : max([v['xllcenter'] for v in headers.values()]),\n",
    "        'min Y' : min([v['yllcenter'] for v in headers.values()]),\n",
    "        'max Y' : max([v['yllcenter'] for v in headers.values()]),\n",
    "        'no data' : int(np.mean([v['nodata_value'] for v in headers.values()]))\n",
    "    }"
   ]
  },
  {
   "cell_type": "code",
   "execution_count": 5,
   "id": "b3ab149f",
   "metadata": {},
   "outputs": [],
   "source": [
    "def findSpatialDistributionOfDatasets(headers, statistics):\n",
    "    \"\"\"\n",
    "    \"\"\"\n",
    "    numOfDatasetsAlongX = int(round((statistics['max X'] - statistics['min X']) / statistics['mean rows num'] * \\\n",
    "                                    statistics['mean cell size'], 0)) + 1\n",
    "    numOfDatasetsAlongY = int(round((statistics['max Y'] - statistics['min Y']) / statistics['mean cols num'] * \\\n",
    "                                    statistics['mean cell size'], 0)) + 1\n",
    "    return numOfDatasetsAlongX, numOfDatasetsAlongY"
   ]
  },
  {
   "cell_type": "code",
   "execution_count": 36,
   "id": "bf6be901",
   "metadata": {},
   "outputs": [
    {
     "data": {
      "text/plain": [
       "(3, 2)"
      ]
     },
     "execution_count": 36,
     "metadata": {},
     "output_type": "execute_result"
    }
   ],
   "source": [
    "numOfDatasetsAlongX, numOfDatasetsAlongY"
   ]
  },
  {
   "cell_type": "code",
   "execution_count": 6,
   "id": "4a37eeeb",
   "metadata": {},
   "outputs": [],
   "source": [
    "def sortDatasets(headers, numOfDatasetsAlongX, numOfDatasetsAlongY):\n",
    "    \"\"\"\n",
    "    \"\"\"    \n",
    "    sortedByX = list(zip([k for k in headers.keys()], [v['xllcenter'] for v in headers.values()], \n",
    "                          [v['yllcenter'] for v in headers.values()]))\n",
    "    sortedByX.sort(key = itemgetter(1), reverse = True)\n",
    "    \n",
    "    splittedBySimilarX = [ sortedByX[ i : i + numOfDatasetsAlongY ] for i in range( 0, len(sortedByX), numOfDatasetsAlongY )]\n",
    "    \n",
    "    sortedByXY = []\n",
    "    \n",
    "    for i in range(len(splittedBySimilarX)):\n",
    "        splittedBySimilarX[i].sort(key = itemgetter(2), reverse = False)\n",
    "        \n",
    "        tmp = []\n",
    "        \n",
    "        for j in range(len(splittedBySimilarX[i])):\n",
    "            tmp.append(splittedBySimilarX[i][j][0])\n",
    "        sortedByXY.append(tmp)\n",
    "    \n",
    "    return np.array(sortedByXY)"
   ]
  },
  {
   "cell_type": "code",
   "execution_count": 7,
   "id": "a8d41758",
   "metadata": {},
   "outputs": [],
   "source": [
    "def createFinalArrayFilledWithNoDataValues(statistics, headers, sortedDatasets):\n",
    "    \"\"\"\n",
    "    \"\"\"\n",
    "    return np.ones((int((statistics['max X'] - statistics['min X']) / statistics['mean cell size'] + \\\n",
    "                        headers[sortedDatasets[0][-1]]['nrows'] * statistics['mean cell size']) ,\n",
    "                    int((statistics['max Y'] - statistics['min Y']) / statistics['mean cell size'] + \\\n",
    "                        headers[sortedDatasets[0][-1]]['ncols'] * statistics['mean cell size'])), dtype = int) * statistics['no data']"
   ]
  },
  {
   "cell_type": "code",
   "execution_count": 8,
   "id": "2394da6a",
   "metadata": {},
   "outputs": [],
   "source": [
    "def fillFinalDtmArrayWithData(sortedDatasets, headers, statistics, dtms, finalDtmArray):\n",
    "    \"\"\"\n",
    "    \"\"\"\n",
    "    for i in range(len(sortedDatasets) - 1, -1, -1):\n",
    "        datasetsOnSimilarX = sortedDatasets[i]\n",
    "\n",
    "        for j in range(len(datasetsOnSimilarX)):\n",
    "            curDataset = datasetsOnSimilarX[j]\n",
    "\n",
    "            xCur, yCur = headers[curDataset]['xllcenter'], headers[curDataset]['yllcenter']\n",
    "\n",
    "            xDiff, yDiff = xCur - statistics['min X'], yCur - statistics['min Y']\n",
    "\n",
    "            cellsDiffRow = int(xDiff / statistics['mean cell size'])\n",
    "            cellsDiffCol = int(yDiff / statistics['mean cell size'])\n",
    "\n",
    "            curRowInFinalDtmArray = int(-xDiff - 1)\n",
    "\n",
    "            for k in range(dtms[curDataset].shape[0] - 1, -1, -1):\n",
    "                curDatasetRow = dtms[curDataset][k]\n",
    "\n",
    "                curColumnInFinalDtmArray = int(cellsDiffCol)\n",
    "\n",
    "                for l in range(len(curDatasetRow)): \n",
    "\n",
    "                    if finalDtmArray[curRowInFinalDtmArray][curColumnInFinalDtmArray] == statistics['no data']:\n",
    "                        finalDtmArray[curRowInFinalDtmArray][curColumnInFinalDtmArray] = curDatasetRow[l]\n",
    "\n",
    "                    curColumnInFinalDtmArray += 1\n",
    "\n",
    "                curRowInFinalDtmArray -= 1"
   ]
  },
  {
   "cell_type": "code",
   "execution_count": 9,
   "id": "87eaf5f2",
   "metadata": {},
   "outputs": [],
   "source": [
    "def constructFinalHeader(finalDtmArray, statistics):\n",
    "    \"\"\"\n",
    "    \"\"\"\n",
    "    return  {\n",
    "            'ncols'        : finalDtmArray.shape[1],\n",
    "            'nrows'        : finalDtmArray.shape[0],\n",
    "            'xllcenter'    : statistics['min X'],\n",
    "            'yllcenter'    : statistics['min Y'],\n",
    "            'cellsize'     : statistics['mean cell size'],\n",
    "            'nodata_value' : statistics['no data']\n",
    "            }"
   ]
  },
  {
   "cell_type": "code",
   "execution_count": 21,
   "id": "3e80d5ec",
   "metadata": {},
   "outputs": [],
   "source": [
    "def exportFinalDtmAsAscFile(catalog, finalHeader, finalDtmArray, sep):\n",
    "    \"\"\"\n",
    "    \"\"\"\n",
    "    headerComponentsAndValues = list(zip(finalHeader.keys(), finalHeader.values()))\n",
    "    headerComponentsAndValues = [f'{sep}'.join(str(el) for el in headerComponentsAndValues[i]) + '\\n' for i \\\n",
    "                                 in range(len(headerComponentsAndValues))]\n",
    "    \n",
    "    dtmHeights = [ f'{sep}'.join(str(el) for el in finalDtmArray[i]) + '\\n' for i in range(finalDtmArray.shape[0]) ]\n",
    "    \n",
    "    with open(os.path.join(catalog, 'merged_dtm.asc'), 'w') as f:\n",
    "        for component in headerComponentsAndValues:\n",
    "            f.write(component)\n",
    "        for height in dtmHeights:\n",
    "            f.write(height)"
   ]
  },
  {
   "cell_type": "code",
   "execution_count": 11,
   "id": "645d9b50",
   "metadata": {},
   "outputs": [],
   "source": [
    "catalog = r'D:\\WAT\\DANE\\INNE\\08_2022\\merge dtms'\n",
    "sep = ' '"
   ]
  },
  {
   "cell_type": "code",
   "execution_count": 12,
   "id": "11229295",
   "metadata": {},
   "outputs": [
    {
     "name": "stdout",
     "output_type": "stream",
     "text": [
      "Data loading - execution time: 33.4 [s]\n"
     ]
    }
   ],
   "source": [
    "start = time.time()\n",
    "headers, dtms = loadMultipleAscDtms(catalog, sep)\n",
    "print(f'Data loading - execution time: {round(time.time() - start, 1)} [s]')"
   ]
  },
  {
   "cell_type": "code",
   "execution_count": 13,
   "id": "20de1f75",
   "metadata": {},
   "outputs": [],
   "source": [
    "statistics = findStatisticsForDatasets(headers)"
   ]
  },
  {
   "cell_type": "code",
   "execution_count": 14,
   "id": "c1ba50fc",
   "metadata": {},
   "outputs": [],
   "source": [
    "numOfDatasetsAlongX, numOfDatasetsAlongY = findSpatialDistributionOfDatasets(headers, statistics)"
   ]
  },
  {
   "cell_type": "code",
   "execution_count": 15,
   "id": "fd986ff1",
   "metadata": {},
   "outputs": [],
   "source": [
    "sortedDatasets = sortDatasets(headers, numOfDatasetsAlongX, numOfDatasetsAlongY)"
   ]
  },
  {
   "cell_type": "code",
   "execution_count": 16,
   "id": "7ad61052",
   "metadata": {},
   "outputs": [],
   "source": [
    "tmp = createFinalArrayFilledWithNoDataValues(statistics, headers, sortedDatasets)"
   ]
  },
  {
   "cell_type": "code",
   "execution_count": 17,
   "id": "a677b9ee",
   "metadata": {},
   "outputs": [],
   "source": [
    "finalDtmArray = createFinalArrayFilledWithNoDataValues(statistics, headers, sortedDatasets)"
   ]
  },
  {
   "cell_type": "code",
   "execution_count": 18,
   "id": "d8c4ff30",
   "metadata": {},
   "outputs": [
    {
     "name": "stdout",
     "output_type": "stream",
     "text": [
      "Merging DTMs - execution time: 15.7 [s]\n"
     ]
    }
   ],
   "source": [
    "start = time.time()\n",
    "fillFinalDtmArrayWithData(sortedDatasets, headers, statistics, dtms, finalDtmArray)\n",
    "print(f'Merging DTMs - execution time: {round(time.time() - start, 1)} [s]')"
   ]
  },
  {
   "cell_type": "code",
   "execution_count": 26,
   "id": "49688e37",
   "metadata": {},
   "outputs": [
    {
     "data": {
      "text/plain": [
       "{'ncols': 4556,\n",
       " 'nrows': 6626,\n",
       " 'xllcenter': 592868.0,\n",
       " 'yllcenter': 534327.0,\n",
       " 'cellsize': 1,\n",
       " 'nodata_value': -9999}"
      ]
     },
     "execution_count": 26,
     "metadata": {},
     "output_type": "execute_result"
    }
   ],
   "source": [
    "finalHeader = constructFinalHeader(finalDtmArray, statistics)\n",
    "finalHeader"
   ]
  },
  {
   "cell_type": "code",
   "execution_count": 22,
   "id": "1289a4d6",
   "metadata": {},
   "outputs": [],
   "source": [
    "exportFinalDtmAsAscFile(catalog, finalHeader, finalDtmArray, sep)"
   ]
  },
  {
   "cell_type": "code",
   "execution_count": 34,
   "id": "7be36e8f",
   "metadata": {},
   "outputs": [
    {
     "data": {
      "text/plain": [
       "{'3830_441509_N-34-113-D-d-3-1': {'ncols': 2155,\n",
       "  'nrows': 2357,\n",
       "  'xllcenter': 592868.0,\n",
       "  'yllcenter': 536644.0,\n",
       "  'cellsize': 1.0,\n",
       "  'nodata_value': -9999},\n",
       " '3830_441510_N-34-113-D-d-3-2': {'ncols': 2157,\n",
       "  'nrows': 2359,\n",
       "  'xllcenter': 594978.0,\n",
       "  'yllcenter': 536684.0,\n",
       "  'cellsize': 1.0,\n",
       "  'nodata_value': -9999},\n",
       " '3830_441511_N-34-113-D-d-3-3': {'ncols': 2157,\n",
       "  'nrows': 2357,\n",
       "  'xllcenter': 592912.0,\n",
       "  'yllcenter': 534327.0,\n",
       "  'cellsize': 1.0,\n",
       "  'nodata_value': -9999},\n",
       " '3830_441512_N-34-113-D-d-3-4': {'ncols': 2158,\n",
       "  'nrows': 2358,\n",
       "  'xllcenter': 595023.0,\n",
       "  'yllcenter': 534368.0,\n",
       "  'cellsize': 1.0,\n",
       "  'nodata_value': -9999},\n",
       " '3830_441513_N-34-113-D-d-4-1': {'ncols': 2157,\n",
       "  'nrows': 2359,\n",
       "  'xllcenter': 597089.0,\n",
       "  'yllcenter': 536726.0,\n",
       "  'cellsize': 1.0,\n",
       "  'nodata_value': -9999},\n",
       " '3830_441515_N-34-113-D-d-4-3': {'ncols': 2159,\n",
       "  'nrows': 2359,\n",
       "  'xllcenter': 597135.0,\n",
       "  'yllcenter': 534410.0,\n",
       "  'cellsize': 1.0,\n",
       "  'nodata_value': -9999}}"
      ]
     },
     "execution_count": 34,
     "metadata": {},
     "output_type": "execute_result"
    }
   ],
   "source": [
    "headers"
   ]
  },
  {
   "cell_type": "code",
   "execution_count": null,
   "id": "7f71a6d0",
   "metadata": {},
   "outputs": [],
   "source": []
  }
 ],
 "metadata": {
  "kernelspec": {
   "display_name": "Python 3 (ipykernel)",
   "language": "python",
   "name": "python3"
  },
  "language_info": {
   "codemirror_mode": {
    "name": "ipython",
    "version": 3
   },
   "file_extension": ".py",
   "mimetype": "text/x-python",
   "name": "python",
   "nbconvert_exporter": "python",
   "pygments_lexer": "ipython3",
   "version": "3.10.4"
  }
 },
 "nbformat": 4,
 "nbformat_minor": 5
}
